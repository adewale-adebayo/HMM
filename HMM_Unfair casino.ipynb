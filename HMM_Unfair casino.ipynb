{
 "cells": [
  {
   "cell_type": "markdown",
   "metadata": {},
   "source": [
    "# Definition of parameters\n",
    "    Hidden states: \n",
    "    Observed states:\n",
    "    Transition probabilities:\n",
    "    Emmission probabilities:\n",
    "    Initial distribution(stationary distribution):\n",
    "    \n",
    "\n",
    " <h5> Possible transitions </h5> \n",
    " \n",
    "<li> $ Fair \\rightarrow Fair $: $1 -0.05 =.95$ </li>\n",
    "<li> $Fair \\rightarrow Biased$: $0.05 $</li>\n",
    "<li> $Biased \\rightarrow Biased $: $1-0.10=0.90$ </li>\n",
    "<li> $Biased\\rightarrow Biased $: $0.10$ </li>  \n",
    "\n",
    "The fair die is equally likely to produce observations $O=\\{$1,2,3,4,5,6$\\}$,   with probabilities: $Pr(i) = \\frac{1}{2}$\n",
    "<div>For the biased die $Pr(6)=0.5$ and $Pr(1)=Pr(2)=Pr(3)=Pr(4)=Pr(5)=0.1$</div>"
   ]
  },
  {
   "cell_type": "code",
   "execution_count": 3,
   "metadata": {},
   "outputs": [],
   "source": [
    "# Import of libraries\n",
    "import numpy as np \n",
    "import matplotlib.pyplot as plt\n",
    "import random"
   ]
  },
  {
   "cell_type": "code",
   "execution_count": 43,
   "metadata": {},
   "outputs": [],
   "source": [
    "# Reading of files \n",
    "P = np.loadtxt('/Users/adewaleadebayo/Documents/Complex computation programming/HMM/data/trans_mat.txt'\n",
    "               ,usecols=(range(1,3)), skiprows=1 )\n",
    "E = np.loadtxt('/Users/adewaleadebayo/Documents/Complex computation programming/HMM/data/Emis_mat.txt',\n",
    "               usecols=(range(1,7)) ,skiprows=1)\n",
    "pi = np.loadtxt('/Users/adewaleadebayo/Documents/Complex computation programming/HMM/data/init_dist.txt',skiprows=1)\n",
    "\n",
    "obs_seq = np.loadtxt('/Users/adewaleadebayo/Documents/Complex computation programming/HMM/obs_sequence_D.txt',dtype=np.int32) \n",
    "# Observation sequence from Biological sequence analysis Durbin \n",
    "\n",
    "hid_seq = np.loadtxt('/Users/adewaleadebayo/Downloads/hid_sequence.txt', dtype=np.int32) \n",
    "# hidden sequence from Biological sequence analysis Durbin"
   ]
  },
  {
   "cell_type": "code",
   "execution_count": 30,
   "metadata": {},
   "outputs": [],
   "source": [
    "# Initialise the model parameters based on the unfair casino example\n",
    "states = ['Fair', 'Unfair']\n",
    "states1 =['F','L']\n",
    "observations = [1,2,3,4,5,6]\n",
    "L=num_simulations = 300\n",
    "\n",
    "P = np.asarray([[0.95, 0.05],  # Transition matrix between the hidden states\n",
    "             [0.10, 0.90]])\n",
    "\n",
    "E = np.asarray([[1./6 for i in range(6)],    # Emission matrix of observations of each state \n",
    "               [0.1, 0.1, 0.1, 0.1, 0.1, 0.5]])\n",
    "\n",
    "pi = np.asarray([2./3, 1./3])  # We are using the stationary distribution as \n",
    "                               # the initial distribution for the markov chain\n",
    "                                "
   ]
  },
  {
   "cell_type": "markdown",
   "metadata": {},
   "source": [
    "Now based on these parameters we need to produce a sequence of **observed**  and **hidden** states using the Fitness proportion algorithm "
   ]
  },
  {
   "cell_type": "code",
   "execution_count": 31,
   "metadata": {},
   "outputs": [],
   "source": [
    "def select_state(weights):\n",
    "    \n",
    "    \"\"\" Determines next state of Markov Chain\n",
    "    \n",
    "    Returns to next state by using the fitness proportion algoritm with the initial distribution as weights\n",
    "    \"\"\"\n",
    "    value = sum(weights) * np.random.random()\n",
    "    for i,w in enumerate(weights):\n",
    "        value -= w\n",
    "        if value < 0 :\n",
    "            return i "
   ]
  },
  {
   "cell_type": "code",
   "execution_count": 32,
   "metadata": {},
   "outputs": [
    {
     "name": "stdout",
     "output_type": "stream",
     "text": [
      "Expected number of Fair states: 195\n",
      "Expected number of Biased states: 105\n"
     ]
    }
   ],
   "source": [
    "# Check if selection algorithm works fine \n",
    "count = 0\n",
    "for i in range(L):\n",
    "    count += select_state(pi)\n",
    "    \n",
    "print (\"Expected number of Fair states:\",L-count)\n",
    "print (\"Expected number of Biased states:\",count)\n"
   ]
  },
  {
   "cell_type": "code",
   "execution_count": 33,
   "metadata": {},
   "outputs": [],
   "source": [
    "# simulation of Markov chain Path\n",
    "def generate_hidden_seq(pi,P,L):\n",
    "    \"\"\"Generate sequence of hidden states of size L\n",
    "    P: Transition matrix\n",
    "    pi: Initial distribution \n",
    "    \n",
    "    \"\"\"\n",
    "    hid_states = [None] * L\n",
    "    #At time t=0, we use the initial distribution\n",
    "    hid_states[0] = select_state(pi)\n",
    "    for i in range(1,L):\n",
    "        hid_states[i] = select_state(P[hid_states[i-1]])\n",
    "    return hid_states\n",
    "\n",
    "\n",
    "def generate_observations(hid_seq, E):\n",
    "    \"\"\" Generate sequence of observations of size L\n",
    "    \n",
    "    Parameters\n",
    "    ----------\n",
    "    E: Emission matrix\n",
    "    Hid_seq: Sequence of hidden Markov states\n",
    "    \"\"\"\n",
    "    L = len(hid_seq)\n",
    "    obs = [None] *L\n",
    "    \n",
    "    for i in range(L):\n",
    "        obs[i] = select_state(E[hid_seq[i]])\n",
    "        \n",
    "    return obs    "
   ]
  },
  {
   "cell_type": "code",
   "execution_count": 34,
   "metadata": {},
   "outputs": [],
   "source": [
    "hid_seq1 = np.asarray(generate_hidden_seq(pi,P,L))\n",
    "obs_seq1 = np.asarray(generate_observations(hid_seq1, E))\n",
    "#x = obs_seq"
   ]
  },
  {
   "cell_type": "code",
   "execution_count": 35,
   "metadata": {},
   "outputs": [],
   "source": [
    "obs=  np.array([observations[i] for i in obs_seq1])\n",
    "hidden_states = np.array([states[i] for i in hid_seq1])\n",
    "np.savetxt('path.txt', hidden_states, fmt='%s', delimiter='\\t')\n",
    "np.savetxt('obs_sequence.txt', obs,fmt= '%f', delimiter='\\t')"
   ]
  },
  {
   "cell_type": "code",
   "execution_count": 36,
   "metadata": {},
   "outputs": [],
   "source": [
    "class modelHMM:\n",
    "    \n",
    "    \"\"\"\n",
    "    Order 1 Hidden Markov Model        \n",
    "    Attributes\n",
    "    ----------\n",
    "    P : numpy.ndarray\n",
    "        State transition probability matrix\n",
    "    E : numpy.ndarray\n",
    "        Output emission probability matrix with shape(N, number of output types)\n",
    "    pi: numpy.ndarray\n",
    "        Initial state probablity distribution (vector)\n",
    "    L : int\n",
    "        Length of sequence\n",
    "        \n",
    "    Common Variables\n",
    "    ----------------\n",
    "    obs_seq : list of int\n",
    "              list of observations (represented as ints corresponding to output\n",
    "              indexes in E) in order of appearance\n",
    "    T : int\n",
    "        number of observations in an observation sequence        \n",
    "        N : int\n",
    "        number of states\n",
    "    \"\"\"\n",
    "\n",
    "    def __init__(self,pi,P,E,L=None):\n",
    "        \n",
    "        self.P  = P\n",
    "        self.E  = E\n",
    "        self.pi = pi\n",
    "         \n",
    "        \n",
    "\n",
    "    def forward(self,obs_seq):\n",
    "        \"\"\" Returns the probability of ending up in a particular state x at time t\n",
    "        given the first k observations using the forward algorithm  \n",
    "        \"\"\"\n",
    "    \n",
    "        T = len(obs_seq) # Number of time steps \n",
    "        N = self.P.shape[0]   # number of states\n",
    "        f = np.zeros((T,N))  # forward variable\n",
    "        f[0] = self.pi * self.E[:, obs_seq[0]]\n",
    "    \n",
    "        for t in range(1,T):\n",
    "            f[t] = np.dot(f[t-1],self.P) * self.E[:,obs_seq[t]]\n",
    "            prob = f[-1].sum()\n",
    "    \n",
    "        return (f, prob)\n",
    "\n",
    "    def observaion_prob(self,obs_seq):\n",
    "        \"\"\" P( entire observation sequence | P, E, pi ) \"\"\"\n",
    "            \n",
    "        return self.forward(obs_seq)[-1].sum()\n",
    "    \n",
    "    \n",
    "    def backward(self,obs_seq):\n",
    "    \n",
    "        T = len(obs_seq) # Number of time steps \n",
    "        N = self.P.shape[0]   # number of states\n",
    "    \n",
    "        b = np.zeros((N,T))\n",
    "        b[:,-1:] =1\n",
    "    \n",
    "        for t in reversed(range(T-1)):\n",
    "            for n in range(N):\n",
    "            \n",
    "                b[n,t] = np.sum(b[:,t+1] * self.P[n,:] * self.E[:, obs_seq[t+1]])\n",
    "            \n",
    "        prob = np.sum(self.pi * self.E[:, obs_seq[0]] * b[:,0])    \n",
    "    \n",
    "        return (b, prob)\n",
    "    \n",
    "    \n",
    "    def viterbi(self,obs_seq):\n",
    "        \"\"\" Returns the most probable path, with the given observation sequence\n",
    "        \n",
    "        -------\n",
    "        v : numpy.ndarray\n",
    "            v [s][t] = Maximum probability of an observation sequence ending\n",
    "                       at time 't' with final state 's'\n",
    "        ptr : numpy.ndarray\n",
    "            Contains a pointer to the previous state at t-1 that maximizes\n",
    "            v[state][t]    \n",
    "        \"\"\"\n",
    "    \n",
    "        T = len(obs_seq) # Time steps\n",
    "        N = self.P.shape[0]    # number of states\n",
    "        v = np.zeros((T,N)) # viterbi variable\n",
    "        ptr = np.zeros ((T,N)) # initialise the best path table\n",
    "    \n",
    "        # Initialization  \n",
    "        v[0] = self.pi * self.E[:,obs_seq[0]]\n",
    "    \n",
    "        # Recursion \n",
    "        for t in range(1,T):\n",
    "            for i in range(N):\n",
    "                #seq_probs = v[t-1] * self.P[:,i] * self.E[i, obs_seq[t]]\n",
    "                v[t,i] = np.max(v[t-1] * self.P[:,i]) * self.E[i, obs_seq[t]]\n",
    "                ptr[t,i] = np.argmax(v[t-1] * self.P[:,i])\n",
    "            \n",
    "        # Backtracking\n",
    "        states_path = np.zeros(T, dtype = np.int32)\n",
    "        states_path[T-1] = np.argmax(v[T-1]) # last state\n",
    "    \n",
    "        for t in range(T-2, -1, -1):         # states of (last-1)th to 0th time step\n",
    "            states_path[t] = ptr[t+1, states_path[t+1]]\n",
    "    \n",
    "        return states_path\n",
    "    \n",
    "    \n",
    "    def viterbi_log(self, obs_seq):\n",
    "        \"\"\" Returns the most probable path, with the given HMM model and observation sequence\n",
    "    \n",
    "        Parameters\n",
    "        ----------\n",
    "        x : observation sequence \n",
    "        P : Transition matrix of hidden chain\n",
    "        E : Emission matrix\n",
    "        pi : Initial distribution of Markov chain(optional)\n",
    "        \"\"\"\n",
    "        T = len(obs_seq) # Time steps, this is the length of our observation sequence\n",
    "        N = P.shape[0]    # number of states\n",
    "        v = np.zeros((T,N)) # viterbi variable (Probabilities of the most probable path)\n",
    "        ptr = np.zeros ((T,N)) # initialise the best path table\n",
    "    \n",
    "        # Initialization  \n",
    "        v[0] = np.log(self.pi) + np.log(self.E[:,obs_seq[0]])\n",
    "    \n",
    "    \n",
    "        # Recursion \n",
    "        for t in range(1,T):\n",
    "            for n in range(N):\n",
    "                v[t,n] = np.max(v[t-1] + np.log(self.P[:,n])) + np.log(self.E[n, obs_seq[t]])#\n",
    "            \n",
    "                ptr[t,n] = np.argmax(v[t-1] + np.log(self.P[:,n]))\n",
    "            \n",
    "        # Backtracking\n",
    "        states_path = np.zeros(T, dtype = np.int32) # \n",
    "        states_path[T-1] = np.argmax(v[T-1]) # last state\n",
    "    \n",
    "        for t in range(T-2, -1,-1):         # states of (last-1)th to 0th time step\n",
    "            states_path[t] = ptr[t+1, states_path[t+1]]\n",
    "    \n",
    "        return states_path\n",
    "    \n",
    "    \n",
    "    \n",
    "    def posterior(self,obs_seq):\n",
    "    \n",
    "        f,pf = self.forward(obs_seq)\n",
    "        b,pb = self.backward(obs_seq)\n",
    "        obs_prob = self.observaion_prob(obs_seq)\n",
    "    \n",
    "        return (np.multiply(f,b.T)/ pf)"
   ]
  },
  {
   "cell_type": "code",
   "execution_count": 37,
   "metadata": {},
   "outputs": [],
   "source": [
    "hmm=modelHMM(pi,P,E)\n",
    "most_prob_path  = hmm.viterbi(obs_seq)\n",
    "posterior_probs = hmm.posterior(obs_seq)\n",
    "f,pf = hmm.forward(obs_seq)\n",
    "b,pb = hmm.backward(obs_seq)"
   ]
  },
  {
   "cell_type": "code",
   "execution_count": 38,
   "metadata": {},
   "outputs": [
    {
     "name": "stdout",
     "output_type": "stream",
     "text": [
      "Forward Probability  =  3.826668803701079e-225 \n",
      "Backward Probability =  3.826668803701079e-225\n"
     ]
    }
   ],
   "source": [
    "print(\"Forward Probability  = \", pf, '\\n' \"Backward Probability = \", pb)"
   ]
  },
  {
   "cell_type": "code",
   "execution_count": 44,
   "metadata": {},
   "outputs": [
    {
     "name": "stdout",
     "output_type": "stream",
     "text": [
      "Observation sequence: \n",
      " [3, 1, 5, 1, 1, 6, 2, 4, 6, 4, 4, 6, 6, 4, 4, 2, 4, 5, 3, 1, 1, 3, 2, 1, 6, 3, 1, 1, 6, 4, 1, 5, 2, 1, 3, 3, 6, 2, 5, 1, 4, 4, 5, 4, 3, 6, 3, 1, 6, 5, 6, 6, 2, 6, 5, 6, 6, 6, 6, 6, 6, 5, 1, 1, 6, 6, 4, 5, 3, 1, 3, 2, 6, 5, 1, 2, 4, 5, 6, 3, 6, 6, 6, 4, 6, 3, 1, 6, 3, 6, 6, 6, 3, 1, 6, 2, 3, 2, 6, 4, 5, 5, 2, 3, 6, 2, 6, 6, 6, 6, 6, 6, 2, 5, 1, 5, 1, 6, 3, 1, 2, 2, 2, 5, 5, 5, 4, 4, 1, 6, 6, 6, 5, 6, 6, 5, 6, 3, 5, 6, 4, 3, 2, 4, 3, 6, 4, 1, 3, 1, 5, 1, 3, 4, 6, 5, 1, 4, 6, 3, 5, 3, 4, 1, 1, 1, 2, 6, 4, 1, 4, 6, 2, 6, 2, 5, 3, 3, 5, 6, 3, 6, 6, 1, 6, 3, 6, 6, 6, 4, 6, 6, 2, 3, 2, 5, 3, 4, 4, 1, 3, 6, 6, 1, 6, 6, 1, 1, 6, 3, 2, 5, 2, 5, 6, 2, 4, 6, 2, 2, 5, 5, 2, 6, 5, 2, 5, 2, 2, 6, 6, 4, 3, 5, 3, 5, 3, 3, 3, 6, 2, 3, 3, 1, 2, 1, 6, 2, 5, 3, 6, 4, 4, 1, 4, 4, 3, 2, 3, 3, 5, 1, 6, 3, 2, 4, 3, 6, 3, 3, 6, 6, 5, 5, 6, 2, 4, 6, 6, 6, 6, 2, 6, 3, 2, 6, 6, 6, 6, 1, 2, 3, 5, 5, 2, 4, 5, 2, 4, 2] \n",
      "\n",
      "Simulated path: \n",
      " ['F', 'F', 'F', 'F', 'F', 'F', 'F', 'F', 'F', 'F', 'F', 'F', 'F', 'F', 'F', 'F', 'F', 'F', 'F', 'F', 'F', 'F', 'F', 'F', 'F', 'F', 'F', 'F', 'F', 'F', 'F', 'F', 'F', 'F', 'F', 'F', 'F', 'F', 'F', 'F', 'F', 'F', 'F', 'F', 'F', 'L', 'L', 'L', 'L', 'L', 'L', 'L', 'L', 'L', 'L', 'L', 'L', 'L', 'L', 'L', 'L', 'L', 'L', 'L', 'L', 'L', 'F', 'F', 'F', 'F', 'F', 'F', 'F', 'F', 'F', 'F', 'F', 'F', 'L', 'L', 'L', 'L', 'L', 'L', 'L', 'L', 'L', 'L', 'L', 'L', 'L', 'L', 'L', 'L', 'F', 'F', 'F', 'L', 'L', 'L', 'L', 'L', 'L', 'L', 'L', 'L', 'L', 'L', 'L', 'L', 'L', 'F', 'F', 'F', 'F', 'F', 'F', 'F', 'F', 'F', 'F', 'F', 'F', 'F', 'F', 'F', 'F', 'F', 'L', 'L', 'L', 'L', 'L', 'L', 'L', 'L', 'L', 'L', 'L', 'L', 'L', 'F', 'F', 'F', 'F', 'F', 'F', 'F', 'F', 'F', 'F', 'F', 'F', 'F', 'F', 'F', 'F', 'F', 'F', 'F', 'F', 'F', 'F', 'F', 'F', 'F', 'F', 'F', 'F', 'F', 'F', 'F', 'F', 'F', 'F', 'F', 'F', 'F', 'L', 'L', 'L', 'L', 'L', 'L', 'L', 'L', 'L', 'L', 'F', 'F', 'F', 'F', 'F', 'F', 'F', 'F', 'F', 'F', 'F', 'F', 'F', 'F', 'F', 'F', 'F', 'F', 'F', 'F', 'F', 'F', 'F', 'F', 'F', 'F', 'F', 'F', 'F', 'F', 'F', 'F', 'F', 'F', 'F', 'F', 'F', 'F', 'F', 'F', 'F', 'F', 'F', 'F', 'F', 'F', 'F', 'F', 'F', 'F', 'F', 'F', 'F', 'F', 'F', 'F', 'F', 'F', 'F', 'F', 'F', 'F', 'F', 'F', 'F', 'F', 'F', 'F', 'F', 'F', 'F', 'F', 'F', 'F', 'F', 'F', 'F', 'F', 'F', 'L', 'L', 'L', 'L', 'L', 'L', 'L', 'L', 'L', 'L', 'L', 'L', 'L', 'L', 'L', 'L', 'L', 'L', 'L', 'L', 'L', 'L', 'F', 'F', 'F', 'F', 'F', 'F', 'F', 'F', 'F', 'F', 'F'] \n",
      "\n",
      "Viterbi most likely path: \n",
      " ['F', 'F', 'F', 'F', 'F', 'F', 'F', 'F', 'F', 'F', 'F', 'F', 'F', 'F', 'F', 'F', 'F', 'F', 'F', 'F', 'F', 'F', 'F', 'F', 'F', 'F', 'F', 'F', 'F', 'F', 'F', 'F', 'F', 'F', 'F', 'F', 'F', 'F', 'F', 'F', 'F', 'F', 'F', 'F', 'F', 'F', 'F', 'F', 'L', 'L', 'L', 'L', 'L', 'L', 'L', 'L', 'L', 'L', 'L', 'L', 'L', 'L', 'L', 'L', 'L', 'L', 'F', 'F', 'F', 'F', 'F', 'F', 'F', 'F', 'F', 'F', 'F', 'F', 'L', 'L', 'L', 'L', 'L', 'L', 'L', 'L', 'L', 'L', 'L', 'L', 'L', 'L', 'L', 'L', 'L', 'L', 'L', 'L', 'L', 'L', 'L', 'L', 'L', 'L', 'L', 'L', 'L', 'L', 'L', 'L', 'L', 'L', 'F', 'F', 'F', 'F', 'F', 'F', 'F', 'F', 'F', 'F', 'F', 'F', 'F', 'F', 'F', 'F', 'F', 'F', 'F', 'F', 'F', 'F', 'F', 'F', 'F', 'F', 'F', 'F', 'F', 'F', 'F', 'F', 'F', 'F', 'F', 'F', 'F', 'F', 'F', 'F', 'F', 'F', 'F', 'F', 'F', 'F', 'F', 'F', 'F', 'F', 'F', 'F', 'F', 'F', 'F', 'F', 'F', 'F', 'F', 'F', 'F', 'F', 'F', 'F', 'F', 'F', 'F', 'L', 'L', 'L', 'L', 'L', 'L', 'L', 'L', 'L', 'L', 'L', 'L', 'L', 'F', 'F', 'F', 'F', 'F', 'F', 'F', 'F', 'F', 'F', 'F', 'F', 'F', 'F', 'F', 'F', 'F', 'F', 'F', 'F', 'F', 'F', 'F', 'F', 'F', 'F', 'F', 'F', 'F', 'F', 'F', 'F', 'F', 'F', 'F', 'F', 'F', 'F', 'F', 'F', 'F', 'F', 'F', 'F', 'F', 'F', 'F', 'F', 'F', 'F', 'F', 'F', 'F', 'F', 'F', 'F', 'F', 'F', 'F', 'F', 'F', 'F', 'F', 'F', 'F', 'F', 'F', 'F', 'F', 'F', 'F', 'F', 'F', 'F', 'F', 'F', 'F', 'F', 'L', 'L', 'L', 'L', 'L', 'L', 'L', 'L', 'L', 'L', 'L', 'L', 'L', 'L', 'L', 'L', 'L', 'L', 'L', 'F', 'F', 'F', 'F', 'F', 'F', 'F', 'F', 'F', 'F', 'F'] \n",
      "\n"
     ]
    }
   ],
   "source": [
    "print ('Observation sequence:','\\n', [observations[i] for i in obs_seq],'\\n')\n",
    "print ('Simulated path:','\\n', [states1[i] for i in hid_seq],'\\n')\n",
    "print ('Viterbi most likely path:','\\n',[states1[i] for i in most_prob_path],'\\n')"
   ]
  },
  {
   "cell_type": "markdown",
   "metadata": {},
   "source": [
    "# Plots"
   ]
  },
  {
   "cell_type": "code",
   "execution_count": 40,
   "metadata": {},
   "outputs": [
    {
     "data": {
      "image/png": "[encoded data removed]",
      "text/plain": [
       "<Figure size 1440x720 with 3 Axes>"
      ]
     },
     "metadata": {
      "needs_background": "light"
     },
     "output_type": "display_data"
    }
   ],
   "source": [
    "obs= np.array([observations[i] for i in obs_seq])\n",
    "hidden_states = np.array([states[i] for i in hid_seq])\n",
    "vit_states = np.array([states[i] for i in most_prob_path])\n",
    "\n",
    "a= range(L)\n",
    "fig, ax = plt.subplots(3,1, figsize=(20,10))\n",
    "plt.subplot(3,1,1)\n",
    "plt.scatter(a,obs,marker='+')\n",
    "plt.title('The Unfair Casino. Observations')\n",
    "\n",
    "######Simulated, which die was used (truth)####################\n",
    "plt.subplot(3,1,2)\n",
    "plt.title('Simulated path')\n",
    "for i in range(L):\n",
    "    if hidden_states[i] == 'Fair':\n",
    "        plt.axvline(x = i, color ='lime' )\n",
    "    else:\n",
    "        plt.axvline(x = i, color = 'red')\n",
    "plt.plot(a,posterior_probs[:,0],color = 'black', label= 'posteior probability')\n",
    "# plt.legend()\n",
    "########Most probable path (viterbi)#######################\n",
    "plt.subplot(3,1,3)\n",
    "plt.title('Viterbi Most Probable Path')\n",
    "for i in range(L):\n",
    "    if  vit_states[i] == 'Fair':\n",
    "        plt.axvline(x = i, color ='lime', label='Fair')\n",
    "    else:\n",
    "        plt.axvline(x = i, color = 'red', label= 'Unfair')\n",
    "plt.plot(a,posterior_probs[:,0],color = 'black')\n",
    "plt.text(80,-0.3, 'The regions shaded red show when the rolls were generated by the loaded/unfair dice,while the green ones indicate the fair dice')\n",
    "plt.savefig('sim_path.png')"
   ]
  },
  {
   "cell_type": "markdown",
   "metadata": {},
   "source": [
    "##  Analysis"
   ]
  },
  {
   "cell_type": "code",
   "execution_count": 47,
   "metadata": {},
   "outputs": [
    {
     "name": "stdout",
     "output_type": "stream",
     "text": [
      "№ of seq with probability lower than the given sequence: 733\n",
      "№ of seq with probability higher than the given sequence: 267\n"
     ]
    }
   ],
   "source": [
    "seq = []              # Contains 1000 random sequences of length L \n",
    "for i in range(1000):\n",
    "    h = generate_hidden_seq(pi,P,L)    # hidden seq\n",
    "    \n",
    "    o = np.asarray(generate_observations(h, E)) # observation sequence\n",
    "    seq.append(o)\n",
    "\n",
    "pp = []                 # Contains the forward probabilities for each of the 1000 sequences  \n",
    "for s in seq:\n",
    "    p = hmm.observaion_prob(s)         # forward probability of each of the 1000 sequences \n",
    "    pp.append(p)\n",
    "\n",
    "count1 = 0              # Number of sequences with  probabilities lower than that of the control sequence\n",
    "for p in pp:\n",
    "    if p < pf:\n",
    "        count1 += 1\n",
    "    \n",
    "print (\"№ of seq with probability lower than the given sequence:\",count1)\n",
    "print (\"№ of seq with probability higher than the given sequence:\",1000-count1)\n"
   ]
  },
  {
   "cell_type": "code",
   "execution_count": 48,
   "metadata": {},
   "outputs": [
    {
     "data": {
      "text/plain": [
       "73.3"
      ]
     },
     "execution_count": 48,
     "metadata": {},
     "output_type": "execute_result"
    }
   ],
   "source": [
    "count1/1000 * 100      # percentage of the sequence with probability lower than the control sequence "
   ]
  },
  {
   "cell_type": "code",
   "execution_count": null,
   "metadata": {},
   "outputs": [],
   "source": []
  },
  {
   "cell_type": "code",
   "execution_count": null,
   "metadata": {},
   "outputs": [],
   "source": []
  },
  {
   "cell_type": "code",
   "execution_count": null,
   "metadata": {},
   "outputs": [],
   "source": []
  },
  {
   "cell_type": "code",
   "execution_count": null,
   "metadata": {},
   "outputs": [],
   "source": []
  },
  {
   "cell_type": "code",
   "execution_count": null,
   "metadata": {},
   "outputs": [],
   "source": []
  },
  {
   "cell_type": "code",
   "execution_count": null,
   "metadata": {},
   "outputs": [],
   "source": []
  },
  {
   "cell_type": "code",
   "execution_count": null,
   "metadata": {},
   "outputs": [],
   "source": []
  },
  {
   "cell_type": "code",
   "execution_count": null,
   "metadata": {},
   "outputs": [],
   "source": []
  },
  {
   "cell_type": "code",
   "execution_count": null,
   "metadata": {},
   "outputs": [],
   "source": []
  },
  {
   "cell_type": "code",
   "execution_count": null,
   "metadata": {},
   "outputs": [],
   "source": []
  },
  {
   "cell_type": "code",
   "execution_count": null,
   "metadata": {},
   "outputs": [],
   "source": []
  },
  {
   "cell_type": "code",
   "execution_count": null,
   "metadata": {},
   "outputs": [],
   "source": []
  },
  {
   "cell_type": "code",
   "execution_count": null,
   "metadata": {},
   "outputs": [],
   "source": []
  },
  {
   "cell_type": "code",
   "execution_count": null,
   "metadata": {},
   "outputs": [],
   "source": []
  },
  {
   "cell_type": "code",
   "execution_count": null,
   "metadata": {},
   "outputs": [],
   "source": []
  },
  {
   "cell_type": "code",
   "execution_count": null,
   "metadata": {},
   "outputs": [],
   "source": []
  },
  {
   "cell_type": "code",
   "execution_count": null,
   "metadata": {},
   "outputs": [],
   "source": [
    "def viterbi_log(x, P, E, pi=None):\n",
    "    \"\"\" Returns the most probable path, with the given HMM model and observation sequence\n",
    "    \n",
    "    Parameters\n",
    "    ----------\n",
    "    x : observation sequence \n",
    "    P : Transition matrix of hidden chain\n",
    "    E : Emission matrix\n",
    "    pi : Initial distribution of Markov chain(optional)\n",
    "    \"\"\"\n",
    "    T = len(obs_seq) # Time steps, this is the length of our observation sequence\n",
    "    N = P.shape[0]    # number of states\n",
    "    v = np.zeros((T,N)) # viterbi variable (Probabilities of the most probable path)\n",
    "    ptr = np.zeros ((T,N)) # initialise the best path table\n",
    "    \n",
    "# Initialization  \n",
    "    v[0] = np.log(pi) + np.log(E[:,obs_seq[0]])\n",
    "    \n",
    "    \n",
    "# Recursion \n",
    "    for t in range(1,T):\n",
    "        for n in range(N):\n",
    "#             v[t,n] = np.max(v[t-1] * P[:,n] * O[n, obs_seq[t]])\n",
    "            v[t,n] = np.max(v[t-1] + np.log(P[:,n])) + np.log(E[n, obs_seq[t]])#\n",
    "            \n",
    "#             ptr[t,n] = np.argmax(v[t-1] * P[:,n]) \n",
    "            ptr[t,n] = np.argmax(v[t-1] + np.log(P[:,n]))\n",
    "            \n",
    "# Backtracking\n",
    "    states_path = np.zeros(T, dtype = np.int32) # \n",
    "    states_path[T-1] = np.argmax(v[T-1]) # last state\n",
    "    \n",
    "    for t in range(T-2, -1,-1):         # states of (last-1)th to 0th time step\n",
    "        states_path[t] = ptr[t+1, states_path[t+1]]\n",
    "    \n",
    "    return states_path"
   ]
  },
  {
   "cell_type": "code",
   "execution_count": null,
   "metadata": {},
   "outputs": [],
   "source": [
    "most_prob_path = viterbi(x,P,E,pi)\n",
    "\n",
    "vit_states = np.array([states[i] for i in most_prob_path])\n",
    "np.savetxt('viterbi_path.txt', vit_states,fmt= '%s', delimiter='\\t')"
   ]
  },
  {
   "cell_type": "code",
   "execution_count": null,
   "metadata": {},
   "outputs": [],
   "source": [
    "def viterbi(x, P, E, pi=None):\n",
    "    \"\"\" Return the most probable path, with the given HMM model and observation sequence\n",
    "    \n",
    "    Parameters\n",
    "    ----------\n",
    "    x : observation sequence \n",
    "    P : Transition matrix of hidden chain\n",
    "    E : Emission matrix\n",
    "    pi : Initial distribution of Markov chain(optional)\n",
    "    \"\"\"\n",
    "    T = len(obs_seq) # Time steps\n",
    "    N = P.shape[0]    # number of states\n",
    "    v = np.zeros((T,N)) # viterbi variable\n",
    "    ptr = np.zeros ((T,N)) # initialise the best path table\n",
    "    \n",
    "# Initialization  \n",
    "    v[0] = pi * E[:,obs_seq[0]]\n",
    "    \n",
    "# Recursion \n",
    "    for t in range(1,T):\n",
    "        for i in range(N):\n",
    "            \n",
    "            v[t,i] = np.max(v[t-1]*P[:,i]) * E[i, obs_seq[t]]\n",
    "            ptr[t,i] = np.argmax(v[t-1]*P[:,i])\n",
    "            \n",
    "# Backtracking\n",
    "    states_path = np.zeros(T, dtype = np.int32)\n",
    "    states_path[T-1] = np.argmax(v[T-1]) # last state\n",
    "    \n",
    "    for t in range(T-2, -1,-1):         # states of (last-1)th to 0th time step\n",
    "        states_path[t] = ptr[t+1, states_path[t+1]]\n",
    "    \n",
    "    return states_path"
   ]
  },
  {
   "cell_type": "code",
   "execution_count": null,
   "metadata": {},
   "outputs": [],
   "source": [
    "most_prob_path = viterbi(x,P,E,pi)\n",
    "vit_states = np.array([states[i] for i in most_prob_path])\n",
    "np.savetxt('viterbi_path.txt', vit_states,fmt= '%s', delimiter='\\t')"
   ]
  },
  {
   "cell_type": "code",
   "execution_count": null,
   "metadata": {},
   "outputs": [],
   "source": [
    "def forward(obs_seq):\n",
    "    \"\"\" Returns the probability of ending up in a particular state x at time t\n",
    "    given the first k observations using the forward algorithm  \n",
    "    \"\"\"\n",
    "    \n",
    "    T = len(obs_seq) # Number of time steps \n",
    "    N = P.shape[0]   # number of states\n",
    "    f = np.zeros((T,N))  # forward variable\n",
    "    f[0] = pi * E[:, obs_seq[0]]\n",
    "    \n",
    "    for t in range(1,T):\n",
    "        f[t] = f[t-1].dot(P) * E[:,obs_seq[t]]\n",
    "    prob = f[-1].sum()\n",
    "    \n",
    "    return (f, prob)\n",
    "\n",
    "def prob(obs_seq):\n",
    "    \n",
    "    return forward(obs_seq)[-1].sum()"
   ]
  },
  {
   "cell_type": "code",
   "execution_count": null,
   "metadata": {},
   "outputs": [],
   "source": [
    "def backward(obs_seq):\n",
    "    \n",
    "    T = len(obs_seq) # Number of time steps \n",
    "    N = P.shape[0]   # number of states\n",
    "    \n",
    "    b = np.zeros((N,T))\n",
    "    b[:,-1:] =1\n",
    "    \n",
    "    for t in reversed(range(T-1)):\n",
    "        for n in range(N):\n",
    "            \n",
    "            b[n,t] = np.sum(b[:,t+1] * P[n,:] * E[:, obs_seq[t+1]])\n",
    "            \n",
    "    prob = np.sum(pi * E[:, obs_seq[0]] * b[:,0])    \n",
    "    \n",
    "    return (b, prob)"
   ]
  },
  {
   "cell_type": "code",
   "execution_count": null,
   "metadata": {},
   "outputs": [],
   "source": [
    "def posterior(obs_seq):\n",
    "    \n",
    "    f,pf = forward(obs_seq)\n",
    "    b,pb = backward(obs_seq)\n",
    "    obs_prob = prob(obs_seq)\n",
    "    \n",
    "    return (np.multiply(f,b.T)/ obs_prob)\n",
    "\n",
    "post_probs =posterior(obs_seq)"
   ]
  },
  {
   "cell_type": "code",
   "execution_count": null,
   "metadata": {
    "scrolled": true
   },
   "outputs": [],
   "source": [
    "print(\"Forward Probability  = \", pf, '\\n' \"Backward Probability = \", pb)"
   ]
  },
  {
   "cell_type": "code",
   "execution_count": null,
   "metadata": {
    "scrolled": true
   },
   "outputs": [],
   "source": [
    "print ('Observation sequence:','\\n', [observations[i] for i in obs_seq],'\\n')\n",
    "print(' Simulated path:','\\n', [states1[i] for i in hid_seq],'\\n')\n",
    "print ('Viterbi most likely path:','\\n',[states1[i] for i in most_prob_path],'\\n')"
   ]
  },
  {
   "cell_type": "code",
   "execution_count": null,
   "metadata": {},
   "outputs": [],
   "source": []
  },
  {
   "cell_type": "code",
   "execution_count": null,
   "metadata": {},
   "outputs": [],
   "source": []
  },
  {
   "cell_type": "code",
   "execution_count": null,
   "metadata": {},
   "outputs": [],
   "source": []
  }
 ],
 "metadata": {
  "kernelspec": {
   "display_name": "Python 3",
   "language": "python",
   "name": "python3"
  },
  "language_info": {
   "codemirror_mode": {
    "name": "ipython",
    "version": 3
   },
   "file_extension": ".py",
   "mimetype": "text/x-python",
   "name": "python",
   "nbconvert_exporter": "python",
   "pygments_lexer": "ipython3",
   "version": "3.7.0"
  }
 },
 "nbformat": 4,
 "nbformat_minor": 2
}
